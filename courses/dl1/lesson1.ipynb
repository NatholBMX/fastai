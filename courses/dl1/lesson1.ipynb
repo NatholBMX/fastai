{
 "cells": [
  {
   "cell_type": "markdown",
   "metadata": {},
   "source": [
    "## Image classification with Convolutional Neural Networks"
   ]
  },
  {
   "cell_type": "markdown",
   "metadata": {},
   "source": [
    "Welcome to the first week of the second deep learning certificate! We're going to use convolutional neural networks (CNNs) to allow our computer to see - something that is only possible thanks to deep learning."
   ]
  },
  {
   "cell_type": "markdown",
   "metadata": {},
   "source": [
    "## Introduction to our first task: 'Dogs vs Cats'"
   ]
  },
  {
   "cell_type": "markdown",
   "metadata": {},
   "source": [
    "We're going to try to create a model to enter the Dogs vs Cats competition at Kaggle. There are 25,000 labelled dog and cat photos available for training, and 12,500 in the test set that we have to try to label for this competition. According to the Kaggle web-site, when this competition was launched (end of 2013): \"State of the art: The current literature suggests machine classifiers can score above 80% accuracy on this task\". So if we can beat 80%, then we will be at the cutting edge as of 2013!"
   ]
  },
  {
   "cell_type": "code",
   "execution_count": 1,
   "metadata": {},
   "outputs": [],
   "source": [
    "# Put these at the top of every notebook, to get automatic reloading and inline plotting\n",
    "%reload_ext autoreload\n",
    "%autoreload 2\n",
    "%matplotlib inline"
   ]
  },
  {
   "cell_type": "markdown",
   "metadata": {},
   "source": [
    "Here we import the libraries we need. We'll learn about what each does during the course."
   ]
  },
  {
   "cell_type": "code",
   "execution_count": 2,
   "metadata": {},
   "outputs": [
    {
     "name": "stderr",
     "output_type": "stream",
     "text": [
      "/opt/conda/envs/fastai/lib/python3.6/importlib/_bootstrap.py:219: RuntimeWarning: numpy.dtype size changed, may indicate binary incompatibility. Expected 96, got 88\n",
      "  return f(*args, **kwds)\n",
      "/opt/conda/envs/fastai/lib/python3.6/importlib/_bootstrap.py:219: RuntimeWarning: numpy.dtype size changed, may indicate binary incompatibility. Expected 96, got 88\n",
      "  return f(*args, **kwds)\n",
      "/opt/conda/envs/fastai/lib/python3.6/site-packages/sklearn/ensemble/weight_boosting.py:29: DeprecationWarning: numpy.core.umath_tests is an internal NumPy module and should not be imported. It will be removed in a future NumPy release.\n",
      "  from numpy.core.umath_tests import inner1d\n"
     ]
    }
   ],
   "source": [
    "# This file contains all the main external libs we'll use\n",
    "from fastai.imports import *"
   ]
  },
  {
   "cell_type": "code",
   "execution_count": 3,
   "metadata": {},
   "outputs": [],
   "source": [
    "from fastai.transforms import *\n",
    "from fastai.conv_learner import *\n",
    "from fastai.model import *\n",
    "from fastai.dataset import *\n",
    "from fastai.sgdr import *\n",
    "from fastai.plots import *"
   ]
  },
  {
   "cell_type": "markdown",
   "metadata": {},
   "source": [
    "`PATH` is the path to your data - if you use the recommended setup approaches from the lesson, you won't need to change this. `sz` is the size that the images will be resized to in order to ensure that the training runs quickly. We'll be talking about this parameter a lot during the course. Leave it at `224` for now."
   ]
  },
  {
   "cell_type": "code",
   "execution_count": 4,
   "metadata": {},
   "outputs": [],
   "source": [
<<<<<<< HEAD
    "PATH = \"data/dogscats/\"\n",
    "#PATH = \"D:\\\\Code\\\\TEMP\\\\fastai\\\\courses\\\\dl1\\\\data\\\\dogscats\\\\\"\n",
    "#PATH = \"C:\\\\Users\\\\nwaller\\\\Documents\\\\fastai\\\\courses\\\\dl1\\\\data\\\\dogscats\\\\\"\n",
=======
    "PATH = \"D:\\\\Code\\\\TEMP\\\\fastai\\\\courses\\\\dl1\\\\data\\\\dogscats\\\\\"\n",
>>>>>>> 039fce95384d8120aaa97b79c987f9884a52016a
    "sz=224"
   ]
  },
  {
   "cell_type": "markdown",
   "metadata": {},
   "source": [
    "It's important that you have a working NVidia GPU set up. The programming framework used to behind the scenes to work with NVidia GPUs is called CUDA. Therefore, you need to ensure the following line returns `True` before you proceed. If you have problems with this, please check the FAQ and ask for help on [the forums](http://forums.fast.ai)."
   ]
  },
  {
   "cell_type": "code",
   "execution_count": 5,
   "metadata": {},
   "outputs": [
    {
     "data": {
      "text/plain": [
       "True"
      ]
     },
     "execution_count": 5,
     "metadata": {},
     "output_type": "execute_result"
    }
   ],
   "source": [
    "torch.cuda.is_available()"
   ]
  },
  {
   "cell_type": "markdown",
   "metadata": {},
   "source": [
    "In addition, NVidia provides special accelerated functions for deep learning in a package called CuDNN. Although not strictly necessary, it will improve training performance significantly, and is included by default in all supported fastai configurations. Therefore, if the following does not return `True`, you may want to look into why."
   ]
  },
  {
   "cell_type": "code",
   "execution_count": 6,
   "metadata": {},
   "outputs": [
    {
     "data": {
      "text/plain": [
       "True"
      ]
     },
     "execution_count": 6,
     "metadata": {},
     "output_type": "execute_result"
    }
   ],
   "source": [
    "torch.backends.cudnn.enabled"
   ]
  },
  {
   "cell_type": "markdown",
   "metadata": {
    "heading_collapsed": true
   },
   "source": [
    "### Extra steps if NOT using Crestle or Paperspace or our scripts"
   ]
  },
  {
   "cell_type": "markdown",
   "metadata": {
    "hidden": true
   },
   "source": [
    "The dataset is available at http://files.fast.ai/data/dogscats.zip. You can download it directly on your server by running the following line in your terminal. `wget http://files.fast.ai/data/dogscats.zip`. You should put the data in a subdirectory of this notebook's directory, called `data/`. Note that this data is already available in Crestle and the Paperspace fast.ai template."
   ]
  },
  {
   "cell_type": "code",
   "execution_count": 8,
   "metadata": {},
   "outputs": [],
   "source": [
    "#!wget http://files.fast.ai/data/dogscats.zip"
   ]
  },
  {
   "cell_type": "markdown",
   "metadata": {
    "heading_collapsed": true
   },
   "source": [
    "### Extra steps if using Crestle"
   ]
  },
  {
   "cell_type": "markdown",
   "metadata": {
    "hidden": true
   },
   "source": [
    "Crestle has the datasets required for fast.ai in /datasets, so we'll create symlinks to the data we want for this competition. (NB: we can't write to /datasets, but we need a place to store temporary files, so we create our own writable directory to put the symlinks in, and we also take advantage of Crestle's `/cache/` faster temporary storage space.)\n",
    "\n",
    "To run these commands (**which you should only do if using Crestle**) remove the `#` characters from the start of each line."
   ]
  },
  {
   "cell_type": "code",
   "execution_count": 9,
   "metadata": {
    "hidden": true
   },
   "outputs": [],
   "source": [
    "# os.makedirs('data/dogscats/models', exist_ok=True)\n",
    "\n",
    "# !ln -s /datasets/fast.ai/dogscats/train {PATH}\n",
    "# !ln -s /datasets/fast.ai/dogscats/test {PATH}\n",
    "# !ln -s /datasets/fast.ai/dogscats/valid {PATH}\n",
    "\n",
    "# os.makedirs('/cache/tmp', exist_ok=True)\n",
    "# !ln -fs /cache/tmp {PATH}"
   ]
  },
  {
   "cell_type": "code",
   "execution_count": 10,
   "metadata": {
    "hidden": true
   },
   "outputs": [],
   "source": [
    "# os.makedirs('/cache/tmp', exist_ok=True)\n",
    "# !ln -fs /cache/tmp {PATH}"
   ]
  },
  {
   "cell_type": "markdown",
   "metadata": {
    "heading_collapsed": true
   },
   "source": [
    "## First look at cat pictures"
   ]
  },
  {
   "cell_type": "markdown",
   "metadata": {
    "hidden": true
   },
   "source": [
    "Our library will assume that you have *train* and *valid* directories. It also assumes that each dir will have subdirs for each class you wish to recognize (in this case, 'cats' and 'dogs')."
   ]
  },
  {
   "cell_type": "code",
   "execution_count": 11,
   "metadata": {
    "hidden": true,
    "scrolled": true
   },
   "outputs": [
    {
     "data": {
      "text/plain": [
       "['models', 'test1', 'sample', 'valid', 'train']"
      ]
     },
     "execution_count": 11,
     "metadata": {},
     "output_type": "execute_result"
    }
   ],
   "source": [
    "os.listdir(PATH)"
   ]
  },
  {
   "cell_type": "code",
   "execution_count": 12,
   "metadata": {
    "hidden": true
   },
   "outputs": [
    {
     "data": {
      "text/plain": [
       "['dogs', 'cats']"
      ]
     },
     "execution_count": 12,
     "metadata": {},
     "output_type": "execute_result"
    }
   ],
   "source": [
    "os.listdir(f'{PATH}valid')"
   ]
  },
  {
   "cell_type": "code",
   "execution_count": 13,
   "metadata": {
    "hidden": true
   },
   "outputs": [
    {
     "data": {
      "text/plain": [
       "['cat.8512.jpg',\n",
       " 'cat.5697.jpg',\n",
       " 'cat.6779.jpg',\n",
       " 'cat.2953.jpg',\n",
       " 'cat.10064.jpg']"
      ]
     },
     "execution_count": 13,
     "metadata": {},
     "output_type": "execute_result"
    }
   ],
   "source": [
    "files = os.listdir(f'{PATH}valid/cats')[:5]\n",
    "files"
   ]
  },
  {
   "cell_type": "code",
   "execution_count": 14,
   "metadata": {
    "hidden": true
   },
   "outputs": [
    {
     "data": {
      "image/png": "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\n",
      "text/plain": [
       "<Figure size 432x288 with 1 Axes>"
      ]
     },
     "metadata": {},
     "output_type": "display_data"
    }
   ],
   "source": [
    "img = plt.imread(f'{PATH}valid/cats/{files[0]}')\n",
    "plt.imshow(img);"
   ]
  },
  {
   "cell_type": "markdown",
   "metadata": {
    "hidden": true
   },
   "source": [
    "Here is how the raw data looks like"
   ]
  },
  {
   "cell_type": "code",
   "execution_count": 15,
   "metadata": {
    "hidden": true
   },
   "outputs": [
    {
     "data": {
      "text/plain": [
       "(348, 330, 3)"
      ]
     },
     "execution_count": 15,
     "metadata": {},
     "output_type": "execute_result"
    }
   ],
   "source": [
    "img.shape"
   ]
  },
  {
   "cell_type": "code",
   "execution_count": 16,
   "metadata": {
    "hidden": true
   },
   "outputs": [
    {
     "data": {
      "text/plain": [
       "array([[[20, 18, 19],\n",
       "        [20, 18, 19],\n",
       "        [21, 19, 20],\n",
       "        [21, 19, 20]],\n",
       "\n",
       "       [[17, 15, 16],\n",
       "        [17, 15, 16],\n",
       "        [17, 15, 16],\n",
       "        [17, 15, 16]],\n",
       "\n",
       "       [[16, 14, 15],\n",
       "        [16, 14, 15],\n",
       "        [15, 13, 14],\n",
       "        [14, 12, 13]],\n",
       "\n",
       "       [[18, 16, 17],\n",
       "        [17, 15, 16],\n",
       "        [16, 14, 15],\n",
       "        [15, 13, 14]]], dtype=uint8)"
      ]
     },
     "execution_count": 16,
     "metadata": {},
     "output_type": "execute_result"
    }
   ],
   "source": [
    "img[:4,:4]"
   ]
  },
  {
   "cell_type": "markdown",
   "metadata": {
    "heading_collapsed": true
   },
   "source": [
    "## Our first model: quick start"
   ]
  },
  {
   "cell_type": "markdown",
   "metadata": {
    "hidden": true
   },
   "source": [
    "We're going to use a <b>pre-trained</b> model, that is, a model created by some one else to solve a different problem. Instead of building a model from scratch to solve a similar problem, we'll use a model trained on ImageNet (1.2 million images and 1000 classes) as a starting point. The model is a Convolutional Neural Network (CNN), a type of Neural Network that builds state-of-the-art models for computer vision. We'll be learning all about CNNs during this course.\n",
    "\n",
    "We will be using the <b>resnet34</b> model. resnet34 is a version of the model that won the 2015 ImageNet competition. Here is more info on [resnet models](https://github.com/KaimingHe/deep-residual-networks). We'll be studying them in depth later, but for now we'll focus on using them effectively.\n",
    "\n",
    "Here's how to train and evalulate a *dogs vs cats* model in 3 lines of code, and under 20 seconds:"
   ]
  },
  {
   "cell_type": "code",
   "execution_count": 17,
   "metadata": {},
   "outputs": [],
   "source": [
    "# Uncomment the below if you need to reset your precomputed activations\n",
    "# shutil.rmtree(f'{PATH}tmp', ignore_errors=True)"
   ]
  },
  {
   "cell_type": "code",
   "execution_count": 18,
   "metadata": {
    "hidden": true
   },
   "outputs": [
    {
     "name": "stderr",
     "output_type": "stream",
     "text": [
      "Downloading: \"https://download.pytorch.org/models/resnet34-333f7ec4.pth\" to /home/Deep_Learner/.torch/models/resnet34-333f7ec4.pth\n",
      "100%|██████████| 87306240/87306240 [00:05<00:00, 16724382.22it/s]\n"
     ]
    },
    {
     "name": "stdout",
     "output_type": "stream",
     "text": [
      "100%|██████████| 360/360 [00:48<00:00,  7.38it/s]\n",
      "100%|██████████| 32/32 [00:04<00:00,  7.44it/s]\n"
     ]
    },
    {
     "data": {
      "application/vnd.jupyter.widget-view+json": {
       "model_id": "fd658b93906944f9a04672b0085bbc42",
       "version_major": 2,
       "version_minor": 0
      },
      "text/plain": [
       "HBox(children=(IntProgress(value=0, description='Epoch', max=3), HTML(value='')))"
      ]
     },
     "metadata": {},
     "output_type": "display_data"
    },
    {
     "name": "stdout",
     "output_type": "stream",
     "text": [
      "epoch      trn_loss   val_loss   accuracy                     \n",
      "    0      0.053471   0.026015   0.99      \n",
      "    1      0.040903   0.025532   0.9905                       \n",
      "    2      0.033262   0.025868   0.9895                        \n",
      "\n"
     ]
    },
    {
     "data": {
      "text/plain": [
       "[array([0.02587]), 0.9895]"
      ]
     },
     "execution_count": 18,
     "metadata": {},
     "output_type": "execute_result"
    }
   ],
   "source": [
    "arch=resnet34\n",
    "data = ImageClassifierData.from_paths(PATH, tfms=tfms_from_model(arch, sz))\n",
    "learn = ConvLearner.pretrained(arch, data, precompute=True)\n",
    "learn.fit(0.01, 3)"
   ]
  }
 ],
 "metadata": {
  "kernelspec": {
   "display_name": "Python 3",
   "language": "python",
   "name": "python3"
  },
  "language_info": {
   "codemirror_mode": {
    "name": "ipython",
    "version": 3
   },
   "file_extension": ".py",
   "mimetype": "text/x-python",
   "name": "python",
   "nbconvert_exporter": "python",
   "pygments_lexer": "ipython3",
   "version": "3.6.6"
  },
  "toc": {
   "colors": {
    "hover_highlight": "#DAA520",
    "navigate_num": "#000000",
    "navigate_text": "#333333",
    "running_highlight": "#FF0000",
    "selected_highlight": "#FFD700",
    "sidebar_border": "#EEEEEE",
    "wrapper_background": "#FFFFFF"
   },
   "moveMenuLeft": true,
   "nav_menu": {
    "height": "266px",
    "width": "252px"
   },
   "navigate_menu": true,
   "number_sections": true,
   "sideBar": true,
   "threshold": 4,
   "toc_cell": false,
   "toc_section_display": "block",
   "toc_window_display": false,
   "widenNotebook": false
  }
 },
 "nbformat": 4,
 "nbformat_minor": 2
}
