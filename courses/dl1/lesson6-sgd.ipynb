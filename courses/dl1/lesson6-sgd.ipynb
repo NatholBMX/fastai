{
 "cells": [
  {
   "cell_type": "markdown",
   "metadata": {
    "toc": "true"
   },
   "source": [
    "# Table of Contents\n",
    " <p><div class=\"lev1 toc-item\"><a href=\"#Linear-Regression-problem\" data-toc-modified-id=\"Linear-Regression-problem-1\"><span class=\"toc-item-num\">1&nbsp;&nbsp;</span>Linear Regression problem</a></div><div class=\"lev1 toc-item\"><a href=\"#Gradient-Descent\" data-toc-modified-id=\"Gradient-Descent-2\"><span class=\"toc-item-num\">2&nbsp;&nbsp;</span>Gradient Descent</a></div><div class=\"lev1 toc-item\"><a href=\"#Gradient-Descent---Classification\" data-toc-modified-id=\"Gradient-Descent---Classification-3\"><span class=\"toc-item-num\">3&nbsp;&nbsp;</span>Gradient Descent - Classification</a></div><div class=\"lev1 toc-item\"><a href=\"#Gradient-descent-with-numpy\" data-toc-modified-id=\"Gradient-descent-with-numpy-4\"><span class=\"toc-item-num\">4&nbsp;&nbsp;</span>Gradient descent with numpy</a></div>"
   ]
  },
  {
   "cell_type": "code",
   "execution_count": 1,
   "metadata": {},
   "outputs": [
    {
     "name": "stderr",
     "output_type": "stream",
     "text": [
      "/opt/conda/envs/fastai/lib/python3.6/importlib/_bootstrap.py:219: RuntimeWarning: numpy.dtype size changed, may indicate binary incompatibility. Expected 96, got 88\n",
      "  return f(*args, **kwds)\n",
      "/opt/conda/envs/fastai/lib/python3.6/importlib/_bootstrap.py:219: RuntimeWarning: numpy.dtype size changed, may indicate binary incompatibility. Expected 96, got 88\n",
      "  return f(*args, **kwds)\n",
      "/opt/conda/envs/fastai/lib/python3.6/site-packages/sklearn/ensemble/weight_boosting.py:29: DeprecationWarning: numpy.core.umath_tests is an internal NumPy module and should not be imported. It will be removed in a future NumPy release.\n",
      "  from numpy.core.umath_tests import inner1d\n"
     ]
    }
   ],
   "source": [
    "%matplotlib inline\n",
    "from fastai.learner import *"
   ]
  },
  {
   "cell_type": "markdown",
   "metadata": {},
   "source": [
    "In this part of the lecture we explain Stochastic Gradient Descent (SGD) which is an **optimization** method commonly used in neural networks. We will illustrate the concepts with concrete examples."
   ]
  },
  {
   "cell_type": "markdown",
   "metadata": {},
   "source": [
    "#  Linear Regression problem"
   ]
  },
  {
   "cell_type": "markdown",
   "metadata": {},
   "source": [
    "The goal of linear regression is to fit a line to a set of points."
   ]
  },
  {
   "cell_type": "code",
   "execution_count": 2,
   "metadata": {},
   "outputs": [],
   "source": [
    "# Here we generate some fake data\n",
    "def lin(a,b,x): return a*x+b\n",
    "\n",
    "def gen_fake_data(n, a, b):\n",
    "    x = s = np.random.uniform(0,1,n) \n",
    "    y = lin(a,b,x) + 0.1 * np.random.normal(0,3,n)\n",
    "    return x, y\n",
    "\n",
    "x, y = gen_fake_data(50, 3., 8.)"
   ]
  },
  {
   "cell_type": "code",
   "execution_count": 3,
   "metadata": {},
   "outputs": [
    {
     "data": {
      "image/png": "[encoded data removed]",
      "text/plain": [
       "<Figure size 432x288 with 1 Axes>"
      ]
     },
     "metadata": {},
     "output_type": "display_data"
    }
   ],
   "source": [
    "plt.scatter(x,y, s=8); plt.xlabel(\"x\"); plt.ylabel(\"y\"); "
   ]
  },
  {
   "cell_type": "markdown",
   "metadata": {},
   "source": [
    "You want to find **parameters** (weights) $a$ and $b$ such that you minimize the *error* between the points and the line $a\\cdot x + b$. Note that here $a$ and $b$ are unknown. For a regression problem the most common *error function* or *loss function* is the **mean squared error**. "
   ]
  },
  {
   "cell_type": "code",
   "execution_count": 4,
   "metadata": {},
   "outputs": [],
   "source": [
    "def mse(y_hat, y): return ((y_hat - y) ** 2).mean()"
   ]
  },
  {
   "cell_type": "markdown",
   "metadata": {},
   "source": [
    "Suppose we believe $a = 10$ and $b = 5$ then we can compute `y_hat` which is our *prediction* and then compute our error."
   ]
  },
  {
   "cell_type": "code",
   "execution_count": 5,
   "metadata": {},
   "outputs": [
    {
     "data": {
      "text/plain": [
       "4.817463337376644"
      ]
     },
     "execution_count": 5,
     "metadata": {},
     "output_type": "execute_result"
    }
   ],
   "source": [
    "y_hat = lin(10,5,x)\n",
    "mse(y_hat, y)"
   ]
  },
  {
   "cell_type": "code",
   "execution_count": 6,
   "metadata": {},
   "outputs": [],
   "source": [
    "def mse_loss(a, b, x, y): return mse(lin(a,b,x), y)"
   ]
  },
  {
   "cell_type": "code",
   "execution_count": 7,
   "metadata": {},
   "outputs": [
    {
     "data": {
      "text/plain": [
       "4.817463337376644"
      ]
     },
     "execution_count": 7,
     "metadata": {},
     "output_type": "execute_result"
    }
   ],
   "source": [
    "mse_loss(10, 5, x, y)"
   ]
  },
  {
   "cell_type": "markdown",
   "metadata": {},
   "source": [
    "So far we have specified the *model* (linear regression) and the *evaluation criteria* (or *loss function*). Now we need to handle *optimization*; that is, how do we find the best values for $a$ and $b$? How do we find the best *fitting* linear regression."
   ]
  },
  {
   "cell_type": "markdown",
   "metadata": {
    "heading_collapsed": true
   },
   "source": [
    "# Gradient Descent"
   ]
  },
  {
   "cell_type": "markdown",
   "metadata": {
    "hidden": true
   },
   "source": [
    "For a fixed dataset $x$ and $y$ `mse_loss(a,b)` is a function of $a$ and $b$. We would like to find the values of $a$ and $b$ that minimize that function.\n",
    "\n",
    "**Gradient descent** is an algorithm that minimizes functions. Given a function defined by a set of parameters, gradient descent starts with an initial set of parameter values and iteratively moves toward a set of parameter values that minimize the function. This iterative minimization is achieved by taking steps in the negative direction of the function gradient.\n",
    "\n",
    "Here is gradient descent implemented in [PyTorch](http://pytorch.org/)."
   ]
  },
  {
   "cell_type": "code",
   "execution_count": 8,
   "metadata": {
    "hidden": true
   },
   "outputs": [
    {
     "data": {
      "text/plain": [
       "((10000,), (10000,))"
      ]
     },
     "execution_count": 8,
     "metadata": {},
     "output_type": "execute_result"
    }
   ],
   "source": [
    "# generate some more data\n",
    "x, y = gen_fake_data(10000, 3., 8.)\n",
    "x.shape, y.shape"
   ]
  },
  {
   "cell_type": "code",
   "execution_count": 9,
   "metadata": {
    "hidden": true
   },
   "outputs": [],
   "source": [
    "x,y = V(x),V(y)"
   ]
  },
  {
   "cell_type": "code",
   "execution_count": 10,
   "metadata": {
    "hidden": true
   },
   "outputs": [
    {
     "data": {
      "text/plain": [
       "(Variable containing:\n",
       "  0.5516\n",
       " [torch.cuda.FloatTensor of size 1 (GPU 0)], Variable containing:\n",
       " -0.4536\n",
       " [torch.cuda.FloatTensor of size 1 (GPU 0)])"
      ]
     },
     "execution_count": 10,
     "metadata": {},
     "output_type": "execute_result"
    }
   ],
   "source": [
    "# Create random weights a and b, and wrap them in Variables.\n",
    "a = V(np.random.randn(1), requires_grad=True)\n",
    "b = V(np.random.randn(1), requires_grad=True)\n",
    "a,b"
   ]
  },
  {
   "cell_type": "code",
   "execution_count": 11,
   "metadata": {
    "hidden": true
   },
   "outputs": [
    {
     "name": "stdout",
     "output_type": "stream",
     "text": [
      "94.44975280761719\n",
      "0.8445407152175903\n",
      "0.22649550437927246\n",
      "0.1918603628873825\n",
      "0.16800719499588013\n",
      "0.14972630143165588\n",
      "0.13570359349250793\n",
      "0.12494678050279617\n",
      "0.1166953593492508\n",
      "0.11036601662635803\n"
     ]
    }
   ],
   "source": [
    "learning_rate = 1e-3\n",
    "for t in range(10000):\n",
    "    # Forward pass: compute predicted y using operations on Variables\n",
    "    loss = mse_loss(a,b,x,y)\n",
    "    if t % 1000 == 0: print(loss.data[0])\n",
    "    \n",
    "    # Computes the gradient of loss with respect to all Variables with requires_grad=True.\n",
    "    # After this call a.grad and b.grad will be Variables holding the gradient\n",
    "    # of the loss with respect to a and b respectively\n",
    "    loss.backward()\n",
    "    \n",
    "    # Update a and b using gradient descent; a.data and b.data are Tensors,\n",
    "    # a.grad and b.grad are Variables and a.grad.data and b.grad.data are Tensors\n",
    "    a.data -= learning_rate * a.grad.data\n",
    "    b.data -= learning_rate * b.grad.data\n",
    "    \n",
    "    # Zero the gradients\n",
    "    a.grad.data.zero_()\n",
    "    b.grad.data.zero_()    "
   ]
  },
  {
   "cell_type": "markdown",
   "metadata": {
    "hidden": true
   },
   "source": [
    "Nearly all of deep learning is powered by one very important algorithm: **stochastic gradient descent (SGD)**. SGD can be seeing as an approximation of **gradient descent** (GD). In GD you have to run through *all* the samples in your training set to do a single itaration. In SGD you use *only one* or *a subset*  of training samples to do the update for a parameter in a particular iteration. The subset use in every iteration is called a **batch** or **minibatch**."
   ]
  },
  {
   "cell_type": "markdown",
   "metadata": {
    "heading_collapsed": true
   },
   "source": [
    "# Gradient Descent - Classification"
   ]
  },
  {
   "cell_type": "markdown",
   "metadata": {
    "hidden": true
   },
   "source": [
    "For a fixed dataset $x$ and $y$ `mse_loss(a,b)` is a function of $a$ and $b$. We would like to find the values of $a$ and $b$ that minimize that function.\n",
    "\n",
    "**Gradient descent** is an algorithm that minimizes functions. Given a function defined by a set of parameters, gradient descent starts with an initial set of parameter values and iteratively moves toward a set of parameter values that minimize the function. This iterative minimization is achieved by taking steps in the negative direction of the function gradient.\n",
    "\n",
    "Here is gradient descent implemented in [PyTorch](http://pytorch.org/)."
   ]
  },
  {
   "cell_type": "code",
   "execution_count": 12,
   "metadata": {
    "hidden": true
   },
   "outputs": [],
   "source": [
    "def gen_fake_data2(n, a, b):\n",
    "    x = s = np.random.uniform(0,1,n) \n",
    "    y = lin(a,b,x) + 0.1 * np.random.normal(0,3,n)\n",
    "    return x, np.where(y>10, 1, 0).astype(np.float32)"
   ]
  },
  {
   "cell_type": "code",
   "execution_count": 13,
   "metadata": {
    "hidden": true
   },
   "outputs": [],
   "source": [
    "x,y = gen_fake_data2(10000, 3., 8.)\n",
    "x,y = V(x),V(y)"
   ]
  },
  {
   "cell_type": "code",
   "execution_count": 14,
   "metadata": {
    "hidden": true
   },
   "outputs": [],
   "source": [
    "def nll(y_hat, y):\n",
    "    y_hat = torch.clamp(y_hat, 1e-5, 1-1e-5)\n",
    "    return (y*y_hat.log() + (1-y)*(1-y_hat).log()).mean()"
   ]
  },
  {
   "cell_type": "code",
   "execution_count": 15,
   "metadata": {
    "hidden": true
   },
   "outputs": [],
   "source": [
    "a = V(np.random.randn(1), requires_grad=True)\n",
    "b = V(np.random.randn(1), requires_grad=True)"
   ]
  },
  {
   "cell_type": "code",
   "execution_count": 16,
   "metadata": {
    "hidden": true
   },
   "outputs": [
    {
     "name": "stdout",
     "output_type": "stream",
     "text": [
      "-0.8976494073867798 0.3748\n",
      "-1.1478476524353027 0.1028\n",
      "-4.058620452880859 0.3343\n"
     ]
    }
   ],
   "source": [
    "learning_rate = 1e-2\n",
    "for t in range(3000):\n",
    "    p = (-lin(a,b,x)).exp()\n",
    "    y_hat = 1/(1+p)\n",
    "    loss = nll(y_hat,y)\n",
    "    if t % 1000 == 0:\n",
    "        print(loss.data[0], np.mean(to_np(y)==(to_np(y_hat)>0.5)))\n",
    "#         print(y_hat)\n",
    "    \n",
    "    loss.backward()\n",
    "    a.data -= learning_rate * a.grad.data\n",
    "    b.data -= learning_rate * b.grad.data\n",
    "    a.grad.data.zero_()\n",
    "    b.grad.data.zero_()    "
   ]
  },
  {
   "cell_type": "markdown",
   "metadata": {
    "hidden": true
   },
   "source": [
    "Nearly all of deep learning is powered by one very important algorithm: **stochastic gradient descent (SGD)**. SGD can be seeing as an approximation of **gradient descent** (GD). In GD you have to run through *all* the samples in your training set to do a single itaration. In SGD you use *only one* or *a subset*  of training samples to do the update for a parameter in a particular iteration. The subset use in every iteration is called a **batch** or **minibatch**."
   ]
  },
  {
   "cell_type": "markdown",
   "metadata": {},
   "source": [
    "# Gradient descent with numpy"
   ]
  },
  {
   "cell_type": "code",
   "execution_count": 17,
   "metadata": {},
   "outputs": [],
   "source": [
    "from matplotlib import rcParams, animation, rc\n",
    "from ipywidgets import interact, interactive, fixed\n",
    "from ipywidgets.widgets import *\n",
    "rc('animation', html='html5')\n",
    "rcParams['figure.figsize'] = 3, 3"
   ]
  },
  {
   "cell_type": "code",
   "execution_count": 18,
   "metadata": {},
   "outputs": [],
   "source": [
    "x, y = gen_fake_data(50, 3., 8.)"
   ]
  },
  {
   "cell_type": "code",
   "execution_count": 19,
   "metadata": {},
   "outputs": [
    {
     "data": {
      "text/plain": [
       "85.23917353557245"
      ]
     },
     "execution_count": 19,
     "metadata": {},
     "output_type": "execute_result"
    }
   ],
   "source": [
    "a_guess,b_guess = -1., 1.\n",
    "mse_loss(a_guess, b_guess, x, y)"
   ]
  },
  {
   "cell_type": "code",
   "execution_count": 20,
   "metadata": {},
   "outputs": [],
   "source": [
    "lr=0.01\n",
    "def upd():\n",
    "    global a_guess, b_guess\n",
    "    y_pred = lin(a_guess, b_guess, x)\n",
    "    dydb = 2 * (y_pred - y)\n",
    "    dyda = x*dydb\n",
    "    a_guess -= lr*dyda.mean()\n",
    "    b_guess -= lr*dydb.mean()"
   ]
  },
  {
   "cell_type": "code",
   "execution_count": 21,
   "metadata": {},
   "outputs": [
    {
     "data": {
      "text/html": [
       "<video width=\"500\" height=\"400\" controls autoplay loop>\n",
       "  <source type=\"video/mp4\" src=\"data:video/mp4;base64,AAAAHGZ0eXBNNFYgAAACAGlzb21pc28yYXZjMQAAAAhmcmVlAAA8bW1kYXQAAAKtBgX//6ncRem9\n",
       "5tlIt5Ys2CDZI+7veDI2NCAtIGNvcmUgMTM4IHIyOCAwNjM1YmRmIC0gSC4yNjQvTVBFRy00IEFW\n",
       "QyBjb2RlYyAtIENvcHlsZWZ0IDIwMDMtMjAxMyAtIGh0dHA6Ly93d3cudmlkZW9sYW4ub3JnL3gy\n",
       "NjQuaHRtbCAtIG9wdGlvbnM6IGNhYmFjPTEgcmVmPTMgZGVibG9jaz0xOjA6MCBhbmFseXNlPTB4\n",
       "MzoweDExMyBtZT1oZXggc3VibWU9NyBwc3k9MSBwc3lfcmQ9MS4wMDowLjAwIG1peGVkX3JlZj0x\n",
       "IG1lX3JhbmdlPTE2IGNocm9tYV9tZT0xIHRyZWxsaXM9MSA4eDhkY3Q9MSBjcW09MCBkZWFkem9u\n",
       "ZT0yMSwxMSBmYXN0X3Bza2lwPTEgY2hyb21hX3FwX29mZnNldD0tMiB0aHJlYWRzPTEyIGxvb2th\n",
       "aGVhZF90aHJlYWRzPTIgc2xpY2VkX3RocmVhZHM9MCBucj0wIGRlY2ltYXRlPTEgaW50ZXJsYWNl\n",
       "ZD0wIGJsdXJheV9jb21wYXQ9MCBjb25zdHJhaW5lZF9pbnRyYT0wIGJmcmFtZXM9MyBiX3B5cmFt\n",
       "aWQ9MiBiX2FkYXB0PTEgYl9iaWFzPTAgZGlyZWN0PTEgd2VpZ2h0Yj0xIG9wZW5fZ29wPTAgd2Vp\n",
       "Z2h0cD0yIGtleWludD0yNTAga2V5aW50X21pbj0xMCBzY2VuZWN1dD00MCBpbnRyYV9yZWZyZXNo\n",
       "PTAgcmNfbG9va2FoZWFkPTQwIHJjPWNyZiBtYnRyZWU9MSBjcmY9MjMuMCBxY29tcD0wLjYwIHFw\n",
       "bWluPTAgcXBtYXg9NjkgcXBzdGVwPTQgaXBfcmF0aW89MS40MCBhcT0xOjEuMDAAgAAAGM9liIQA\n",
       "EP/+94G/MstfIrrJcfnnfSyszzzkPHJdia640AAAAwAAAwJ0xbLud10Nph2AAAKsL/8Fkri2ATS8\n",
       "pLop8eF6o9gNR8D9VK9sUmIbecRuxKS30elfmvR4fw9IM9/9PeVfu+JLypNTTuMFIeFuTNCYMBl5\n",
       "b/pGPdnowAB7a55SyVD/gdiyysuagB3mbEvuvdLyM1WysTZOZAZ/+r+4VFOMefls7J8tKL69k6q4\n",
       "XI4vyrNnkuBJRZFgLiDhxCrDyqnBuIrXFMl5QD4i8Rg8z1TBfUfrcZBBGw8O08sZx2D5eE/ZbyfK\n",
       "Mlpr+FAqF6+v4fUXhXHb7gYSJlbwDyADpkNYM7YA+9EqxQyyuINBgsy6OLJyHj67t5EgfM/+wZ5w\n",
       "ywMABmrpkzKTzs9biEhw4J5zHA3xp0MfWUroSKklmZDuBVxCRPLAN4m1m6UcM2yX0rS6JmQa20Q2\n",
       "+g6jh5oQ7sXagyPUpPHsqadLQ6VbcOn+TNNi4pVZ8wmM8dW9v8KisTgRNtua84zRIaA+23dKCDqS\n",
       "xWYOELJHJngj+6cnafgBN2KY1XhX6pczjlqpZPOxbm/f0Se/IRId5NqQF+9QE7XdPW1CRIU+4wtj\n",
       "W2wmCUqV0RS/GYU3fIKSlOos/pxY3f9i0PMyM/J+x/8DLsOBnH/xUpwZGRO/lhqxwqxBGuIm8h7q\n",
       "pYlPcCYDTNw11N3oAYIkVSV24epn4jaer6etamPDZlpLqQNwT35RVHU0iDLIxfYyU3AoahQRiVtq\n",
       "57lMrwAoznkxmDahVcBK71N/7xaNOIsOBKXl1u6asidc8EMudn1kAOgiP475nBSHfmF+Nw6tEVVY\n",
       "W5izSR2M1ysFkTicWBEFkM+juQcssmkrcXFMPEbTlDf+5fgRLrRdWjwlyg8NqhXyTaSNNXguiC/K\n",
       "eCafJu0nRd2Rw55uU3pOY3olDEjsL8V9IOA2IycU5Uxba0eUOpTRwH8TZkypPAgTnVt5j4jAb+C8\n",
       "O/QMsCKo5mQdXNGYJxzZD4uTWuaToQmnUPByakjeTOAV001e8flZlNK+ysKIyu1s4twOyW2qArx3\n",
       "7c6Wp13TxtoqzBuf1J9xyU8GYILscbR4B+FFuCp9YcRZqREMRQ37qGOrodG5Spa5svS9Yqiko7RS\n",
       "FUfPdwaU6OYHRBBT6En0J/HaiVtXSS+5eVOjO7PC25BFUbLLd6XN+QRjRxAh1wZneCu1iqVcNHPx\n",
       "Wo/zLrj6CU+Mg1YAvkaxJQEzukJbLUJ35Tq8hFElbLVicF+kV/phse8iL/TyHbXoQFf6zrdV+1ZW\n",
       "JYgzJjLOjkS5ETaTmDA/xiX4/RlnT2kPseUruei8NuJwnfehuoiWyspiACurnF38gWQRJmLAScBT\n",
       "6xvnPDKw77dBndHPI3tdiJfssKoiR6tDxzXPXLLYeszY0Hm48FTmDpgjOuPcrk3hqJ76KqMpJPJ5\n",
       "S9PGE37H9q6w7xxszLwcmDn23mqIZN+fjKqHaiE5v20SmG+DZTEIakNUosB/TIVLFziab18Kmfux\n",
       "BhW6NYW19gtQ9W0/sUKXLM+ShErX4X8jAubEvPgPdbstj7L58RUidll+Plpb/hHNuns1dfIytpTv\n",
       "f5QeZXpCEw83ZCoXtZGfFlzq9sTo5y5nAPRw9scevBBzqoWOLPWo0M9F/EBCfmMUH0qncqV9YnWv\n",
       "VJMDniwAcxhvgxLjkMe0D6PC9DQcFiPyuxnKaSoL+cVxZHUtQiWUTDiUhLgmMAo9dHANlW3qHE/P\n",
       "iF8YwwVYZbVPfz1cRrbGdgUyVbc7I0Cf21VIudCTEkEM8Ha/3DaTt0SAlzjZ17KvRxQsD1EruCCq\n",
       "hdviIOAF+Fmp9G/yiyOsCDiBwbNybzjed3CM+Fs7EhYeRt70C6ZtOyKT88fh7w8sD///4RH//k16\n",
       "ctUfyfEU39z9CW3QwjxBXhzZQxUFd/2rjPTOs2U4IFvzMdtHs3M1f3vbjB8wxO4un8SF+SImuC5j\n",
       "wrDphZassl/fAzqtQKRcpBhZWidb3VkOky0UJyahMaddDez8TzA4fOzD09sV+YSy2eVlBtju6f9X\n",
       "+z/ZTu9SaU1waMxT8CFfoOyXIEKXJhONKYsmoXI+l+wOjH+I9yJ+PRP2CE+UrJGz0yLQekDx9qrU\n",
       "64oUtYHwiDRITEGoLcn8t/N7CdZHvOqW5Y96e5wlXnok/E9TdPCet3cgxcPa0njv1MhUGhalvrvS\n",
       "h+L0W5OxWhGzRaLe0RaxgK7Jz7I75q8/VCt+gDuKPTwcdbwQKr09JsjxghdUOtL7uuBHARC3LjjS\n",
       "kBBBRihiE8JthrV+AV9rWWiPxtW5w7VHkvXp1T4UiHC1d+i+7I7GZf/k1KQ8PAaq/EMGfYAp/bG0\n",
       "AwoMPLJxw9k3wrYquzRnskKMUGwYaMF2tVT//UBP54/MmCGmG23HV1wuAP/8cLII/ZcxkvFETWP3\n",
       "OSPEE+9yT3F4QjjiynYT6k4djJkv7ugWA1GTKFV23wCMQIkbqNZJmxIThOBXWu3zkuVS4Q8UgkPD\n",
       "WC96FWx7TVJnoo1QTvZj7kosr/vQY5RJasjc1wcl1N74K7qPudK4yGrjUqZH8Bxe6kja8v9IyYI7\n",
       "Gr5Kck0HMhVAwGFDbfY8OsAJ1q04jIjLdWTtIz245PoroIToaPbGHqC96xCZhJ05qv8iSSJ0741j\n",
       "w036tCvpvLLj6pEcR6wFT58iKYfCfP29H0+aIXl+OMwXfX10nGSqTvnH/zuMXq6NHpPEBOZyDQ5g\n",
       "hWKiR45qEQI5gWJi5ujg67K2A9WcQHhiFSUMu0ohJoohCAl7NW/IBow4JiFXxa3AX0gOqlfpdVCW\n",
       "IFohQcoRDuRtC81Qg8p3W00j0z3lOrwBGi4YonHCdNBqx8tQS2Ji0CK8lp7Jfe9OrLZVpeh7tHeV\n",
       "rVwIIyqhZDiH972qmY0cOcnsr5K7pu0o1/LKJkNcilng8kmXok/QxuO0bmOik4f3qucKvSXUTkrh\n",
       "u0XnBiiENxj9R0ZFjXlVWyG9+SuCcFYLdGXuN7Iu/y88vnoW/hWD7vNX5PCpRHIfYADVOCPZmphu\n",
       "4uhusTd1AtjMJDnzDJA0I1eLJUrRN9afLxHQdZPbKroshp9LnKRnppzPu2wapqRIERMjJq3QqkZj\n",
       "r/X+X+8aL8Ss+sLhBD/EilNF1OQtxqAu614+WilpM+/dse5uY18xBlzQ7VIvXAzzQ8WwGwl9uEwE\n",
       "VYGddKxAvUMosM7jnHME8MgYpezP5JTqr+7lowaPVebQS/s9iPsrIkLORNS1v5YRLh97FwV/Yyzy\n",
       "aJEcH0X2/zCSqg8FhjzCNKIl627x+XVWoLWF9xDQ60cGgvEwagig47F6ydEEcAvTWLk9TWPSN+Sv\n",
       "xim8q66RAcJshyxSHS41AhD98jjuT7Mm/tN05/uMunBsQbm+rUEQ3CwKCFVDC3p+syjDGyiq5ztn\n",
       "FqpseIPU60OL8dXkJp3mlBGxxRggXSOGMG0eGT8k/Bg0XNfhGaGZ5jiOG/no9BXXMvnYqPTPLLZ9\n",
       "xFKRxg4O55Zc6HwJftpej0ubJuFwxmufrcpiEQHTUy8PVgUHyGJRI65GRciGy4ZETdFaiTyP0mux\n",
       "z9aShf6c3j17CCLJ8BiHKI04kN3gN/T8ObGjhMiByfNH4I1mjek8ZgYtX804y+hp3PC58fJ8K3mA\n",
       "acVFLGRm/4kkyjZ1lQndynN9R9uPO6CIcDzMRBY+AahMRWNiw5+Aib7RuMS0FkewZGIIfQPwMucj\n",
       "RdtXWwpeDz0Le/RCQVt9v0QzvbJv0dIsEj8C5WlynpZ+IT+RqXmtq+AhZu8FhHqPIoPGgn5i0a2/\n",
       "8rph7MGXvNVm6SVvdfkW8TOaMZuRAI0rRDYXxsHVm0/gcn43DfcrX3YTX5EDFxZ9L/4UnK7RKfSq\n",
       "DwaCN9VJYpZNB2I2v+PlzFgtASpfzCHTxNxE2EkRWRnqenneYOSrVcaRiLeXB3xBdAJ/5tcE82Fp\n",
       "OdgHzae5cu08vBgAuChVOL2nx0qObtrdU8GHgQxwtMFvYb1zeG9D61BUBWbZUBirUewe8+2L5cHN\n",
       "/xQG85IykBpCGlRsJMbyfeJHqoaveZm2ngt9iecwQ3g+vtO8mmUwg1jpVlZmQ2NC2azmDb4s0deT\n",
       "pKsLxFOiBm75ldXsE+kb9nI3sBJfS7lpp4VSGKdw5NXzkDpJ1xqtx/1dm/aG9ndbqrq3mbHHxO7/\n",
       "9VnVwuBnPbc/MjShNI7F+UkwFABcLYM48KiDd0xuD8m6mhYvUhX+aMJqXMw24YfonNj109HpA5mW\n",
       "77qFmscfzST3GhnXceThxpUIYTOPDB/Iryz6Jer0GCcxuxOEA91+zBi1F8QfvUk+FDZBD1ZZFK4N\n",
       "yxt+xZf/EFtV7my6gacx3fCYVBI/8furA3ubQbLPk/rayoawuIE7XkrmpuDmSXNkAlQBLdlqnC3I\n",
       "mRmQ0su1DNolFf5IIJDj8e2J25S/7+etAlRZLUgeC29LzC0arUlNMhoaIaUsBdvtzfWl5YuS651O\n",
       "cvcRIRFOavsyVmKGc4sN/mlvnmO3pM3TLn15qEMfZKnHuytVIx/aE1NRRFBDJXFDJgp7xWdlrGgz\n",
       "lotRHk2xV4TLhUEx8erkUlyWuA7NvnQZrA+bYy93yYoKH7FIlQB2OzKrmFP763+X+6qeIU4B2YNx\n",
       "zQxvOXsB/tuknCOsDXtFWHgTxHubWTSnzmDiktzxQYDwKa/xra9NwZ5vSDeb5CWQJ/Tjqa32Y2oC\n",
       "1VVJLVdpxK4RAckmYKQMUhyieaAWNtTmr3BgDEB0DC44wzRTTXfyAJ+c/kO6DawUYekHNA2RVo8E\n",
       "18f4rDkES7NX4GOmWhyYGCoGFeYWgMetbn0YpAGetWY3//WytgkdZnn62R0E93gp137YtQ4cSU9w\n",
       "3bJmWXSrO5zklPLMsTbkKC8E/nulIxHLW6AbNQsuw16X3fNGx0hfCxeUOYoAgVVOmNFD+0z8JARs\n",
       "WnLgsAJgHYXcnS5x2DmbCrFDiE7gY5MzQ2X54oTazb6FWCinOUBLv+DP6Ck4t9GPN3v4hD8Skwpq\n",
       "aS9/qVM78m8Vv3oizPZUmUgdx8cOqqZZSzIF85qcMJateD5Mji1Xt3lXKRELFH0NCAMcScmYATEz\n",
       "qohK94v9M36WI01czO8y0n0Laq9LA68AQdVZrH4jYZ1hatxhmHvErH7WoWBn/x7VdmKELAaFwdGH\n",
       "ImtkFpL849605HbYWiFBRxID0Et5hNy+6io1zlMSMU7hxivCbYqT3dqvzMvH4CWrmhJ839XygC3j\n",
       "Nux8I6LfdO4NJE7NE6QIH9aQlJZ3xNviTBC4K3qLLOK8RC0zsfer+vfpIXVEiBUiP4XtF1Wv////\n",
       "BDDlsqRk/usGhTu3fz2ceRcmIwir/UwAZKtOKCCGhsjuwBE/6eSxPfgtZvysxnmvbW/6/F+KtbcM\n",
       "nIgB9wa1Drarw00308eHV3MFLoAOMFJ9ezcK9h5I+7UW8N/W5TwbuJYWez5mhwSKVqDucc3JdJEm\n",
       "97NcyflUUgEdZ3gGbk5yovxsJtrEDT7gKXX4PqchWZogI5QAuBD/gsTxJc+08LzXrXfie6TRtldm\n",
       "CJ93xIrE5MwhZLOiSsbl7emQZ/lsRZBrvVjHQR7+0DUthw2GmynPJDXxriqlKvGF4b+COmSDs9Rl\n",
       "grDG7ViQrOQ4X6DBLocwCKK3Yxl2t5TcKT8qbIT6UQx362gV2tETH85iZHn6LjLfPU50MJm+ZBYU\n",
       "5sAexxD8T1bOSsEOxkUi5kfX+m8XOS4mik8EdVRF1K0cfak2tXgFPaEVbwOnpszD9eVfuUP9pDxT\n",
       "VoMlYrC7pbwyB0dwm5lyjkJosGMjkR1U7SsdOoiOghi6no3s+u96A+or7tXfYV1XGodl/xSRKSCN\n",
       "PLv2t/4bBgARLv5/vusLcjAqBfOnhDwi4U8lW38TYsK1osAkePRRZZ0+OVNyQ2EUNjsRNe+YvNEB\n",
       "r/Jsy6on1e2p84osvFv3Agk49Y3FlM+IprpHDKluI8Wu7gcgjvJBsU/MD98PTRLX9Ef1fRN5aHXH\n",
       "8rVRxMeGTTQGR8+qfjHw+VUglcxq8i/s57TfWDwtGVe2tI3R/O9I1FKMY9vtGYGdo1vu4NCaboTr\n",
       "kdYfwbZ3T93f0qMHsUXqL9BFEYY5QNlrQF6k9i49rEfOmxw9gaxeLJkfOUt/kZ1HMOmMlmb/phJp\n",
       "fjEoQAchS7Y0Olg6Dg157QiO0Pu/MhElJX2nWGDn7QMLk6+3J69c5yTCU+mj3eVwb2zxpgtRIwu0\n",
       "fUQeFQryINe6HybQvDgGWsg8bCg+qj8Pj61wtcRt5mrO6IPhI40YqqsTNvcZ0gwlvCnWGi+5NZsX\n",
       "N7R8ObHD/F8t+xaFjfrNgJKPzi68q0ho1jlNlBc0s/x2DmbITXvGU8BwZ9xmBhIARU3/7pt+pEMq\n",
       "GvurDMQsJdX6nvgkGX5byoAcZhJ4CW0J++sI9epvfaFPME/440MlaQtyIdYnseRrEG8lTqMuYR+4\n",
       "kpb3zqnDJ608BmAsaTyBN+iox2XL5HBZt64WafoA9uysZ9aGcoTtaGrSyijGRRwpHStPmw4oWtWP\n",
       "vUO0r2IXZEML5CoOh0/sQYnvFiQlyueUMQbdb2hnhA84I6O2IANmuf95YHl3doxf4D5AD8LUxSuB\n",
       "vKAc7jFTUueBJY7Gnw/FzGvl615xZgNkR0tQVfXEe/oPEOHVPyIfuavxxadQ8EQJ1jz9IauLvCA9\n",
       "xid7k/L/VWGXpFX5/7djPPablFpWkde04gsolDcdI4vgw8+z1MW+GGguwNT3mF3/bEh2LZW8soVj\n",
       "UpwSkoe+JSMUohLaEuFVqlgj+e4DQpFxdEWE7bNRoURgWdCHBaUPNlqVv+iiSrpGU+hz3C5rTC6N\n",
       "jMit85V7rRYuqkubs3EdYzLb3NPTLaRKYBfIUuFuQcUBuocnbJ/l+EAcE+NmhKD5B0GFc06gAXUl\n",
       "vW5xcHlSnDFZKKzTASg1RS1pRDf8WSE3jHxZfvsCL5UYRzGL3TrXqz3WdMzGImFyPCrPOthu8+A7\n",
       "o6jfvd7+OP55moJhmwAsfbgonQ2zVJ/ZAUTeflVe6n3QNtx3gzi6dPGHR8XhTgoMUDkz1jYzf0N9\n",
       "C52DmPpy9vLWF6mZt/KmBCYMp8w0wbK0TbfNt9Bts0GNvel53366eSr4qvOlVwrBgoTdIdpOBgi1\n",
       "S8jU6QHXEYiOJzJty1HyGWbDnpA/9xkPkGZc7E/gGXLai7qUx2xr1aktL65f5Or7eE5M3BJGxYpu\n",
       "9fs+1jCIcosAPtLxQM5N7FEMo47exXXOMr8idDp1YZtSXUPurWm+w6RD8TqPThUhWnHnzJNP0iv4\n",
       "gKRQg0QTWpQC3RL0mp3IN+XsG1F5byj19i7vHiq97zvCEd9BgltBSPuwOxrV4DLzHMaVz/9fWqtc\n",
       "T4BbmNFg5h01m1Z6YuBi/Cm5aOOYJ5M86BaTTjFhB5cx5tEBtAe3+CanrAUgHsm5t2kt2iyCWS7U\n",
       "GIWK4Ty1/LodAjXhlr/g5/rFcHF3fS7QVHBVuHFrYYKCukgOiqEQSLUbiVGivfzSvRJJmfioUZyk\n",
       "0QnrAl6AinASGw2tG1/mXSrvK4CphPS4yJEykjnLRQG/fYKEyY85EzcksFNoEjrQ2D4ODq+cmQVv\n",
       "+GZ0WXWPVm66BZ4pLLrRky93Q2AWL23gfLm3r/qyJHFZTJ6jEkm3LroC1Gs9bxYyysgzEcx/Gc+g\n",
       "F+ihbzsse751fE+25swR2Jphf49ehaDOrFsMPWcRfq8TXyuGWFRp7zUzMQUGoO5ckcktkD2a1NKB\n",
       "XPPOLWvPxkIcgjaKu5hejpaFZVXnXFSmAgGHPnLMFHua8Vvvov/tolSvAaUev8ELqM3EbBwfItOa\n",
       "rG4aIguCh5RXVlJUR9OO9M+AjDQbYUqzvm9lXEttwGz/nDPT3qrx4C1JwPj49C1laqHRzR9DERO6\n",
       "efmETh/fQ7B3VAfEkydhR2ghaJEZUBU2cD594mriC60dKpuxLFSlvYfgn6+Wis58/OyEdfl5+TWy\n",
       "bmnVAVAcG5RvjZoOQAMMwhX6rwGBlwJbTxxEtZgWrK0+UFQGOxBWqmQeh0C7CP/RxQ0apz/z0CeC\n",
       "uVeVehpu4cNYYbTiLF9g/QmrPVXSYEYIBx/jKiowCb/KRGj40603xn8n2mdIhisqRyXnQCPLncbJ\n",
       "Wrr9L9qeN0As8/ljI8unxQptCf6plikNu7g2ZLQJ//g5FbiX+xc7NDUc+74WeH9tt7bi3mzn1/nq\n",
       "hHW3UsEI2sxNOHW/OUjShNa7gV//MGncKmR3v009NKymPzS7ebV5JekUr3xcgZZ11jVLIyHWagOM\n",
       "k1UMySzgOoYw/m/DtnxIJrN9peld5r/ItoN4Vffv3DkthgiHeRZrr0isch0J4q11TZ4BhFYUJ1zu\n",
       "JaBTx4gMwKxVaRl8icAbMOmLUiLbZ9tSyk/QowexqNPgAStrk2cv+iJ1nLdIr0x4Be5hHW1vn/AP\n",
       "drBaRyKOlHRMVM/cpwAAAwAApYEAAAUhQZohbEEP/qpVAApRY1pAA36AxfdIXzv/WU4tV5cEOjj7\n",
       "Hu2XvOymDyvKIc1nUIkKWgX4/24m/nxaaBXIC2/GfA6D62bbkqx9lKcjoyPkSICOBXYEVHaXLbdI\n",
       "be38PLTirjio+rbrazgsfP6OCSEBBFvyf3VuLkmYzaxpDT74wfuuDTuVUubaURf914wshx5M1m++\n",
       "DOkJU3DCNyrTS1WDQWw8uesFB9/vNQK3n4IcfLQO6dzDUt4Bhbdwc/tVsde2z6XEavAT5s6gmN88\n",
       "GEzJOSHhrtpUjLRkFXuIShZvDdJ+jDijP/wN/31otm3huHcTDtyw8GnZawEJrcdTzH41Jkw382ne\n",
       "Jixr84QpjwodQUNQMwKlEH+VJBG42QN0xG2ZfzfAqOBIFh27yxBJ0MvKgky5dXHgqjdaB08P+/F0\n",
       "iBKgpoVqguRMxKGgY81iAfwJNELjJspGWPL3HSVFk7Lg0lRhQLBmm2sMiZH+RmsqIgKUlvh8CV5C\n",
       "xQcAn1nKgQAHFZ5U2j/hT+pBAZPG02OZ5pKPCvw0IIswhzW5iADrLvd8jrsXKPUrfT7oR3XBqS0r\n",
       "zej5txqfVtKVwfT9iLPIhePw1V8zFKgfn/VsFgSTEuqf9pk9BgElIurh/hxzRGRcENQhmhZmiuF/\n",
       "ZjWfkFOC9V9+xcUSy9UlL0AMVNeL6q2ZB8l1k3I2cu1YtRcinZRDEh1jV7m2iZA2m8Q96j+Wqc8c\n",
       "rT4lvhBIYNsgoGGrXrFpFmFXmkqtM0NEcLVeHdVns6JWtbfOQQGqQFL6Pa3bLyj7sy6Lq2vnDKIX\n",
       "YiZ1v4yMlHXlzspKosaxqvlAg8LHF1kdR7pRG7p/W3XJ0K+cFalxQMnopvMxiyavwGj7jliKZhP+\n",
       "ZOKZ80cmZT/0kPvsR2EJM/Wmiji/prGrX9mogAtyMOBVtwpgdKx2ZC7l3O24TbevbLJXdfejvDdu\n",
       "vFgqGFA4lEezTKF8zW/qAodSastYp+9N4PKHAKDxfJ1fY27rLkkRLMLbW+h4Jux2YfmbObzzUitS\n",
       "hQQbYxFs8ME0u9xpeBynN8zODf1S4M428KqfMvtSL1cFl+daBCjBImKASvVquuIdKse0pp7i9Fqd\n",
       "fNreio5ZkDnDaVHHZYtzrQqIiFPpeFxX/ziFkP/T2/hqmcPmN87ztkUOBgOwQd5zVsWuR5oZAL/e\n",
       "LKGEK1rZvKc68K6Le1GjlxENljyciZrkzfQ2b4O6lf3NjrjuBemIEnkfcgYe75IEydhUOeeb4CvJ\n",
       "1tHpQ0Ec6sisAXMbg4hVmeTeTrstxpcEsERavhCT+rdYv+WKlvyGV1E5pNEdOpMfYSkHaCKW49U0\n",
       "eYMzj0S3APGVEhGvc2raH4V9XGBav0WrlWjBTAxoPbQRSkVO9/fwCg9ApamAyLTBPKtqbZi2a8pQ\n",
       "0ffqc0H3gmnqX3mA63NImzAKuYCGut96ICAC++5/5uoflKNBXzc3cgUvbrh0uNyP3N7W5yg+stnl\n",
       "SxY20LMTmgPHfWOpMvSDWkt6dv6IX4LsbC4ORJ7nNTidhwyq4yp0aLaps0lyAjW1AcMBEpRplls3\n",
       "OTTk7N1M/QEsIH149mZC7Z7/Si/T6n3ML2q94auHHEXnOQ2aKHrDXPanfXZMAVxIT9MzewJFGGNC\n",
       "jy79ywAAAwAAAwAAc+BHiYBQ6VWYQm10xTKf5VRkB7S09UPK8uRQUGRC80hmYXxGrg6TGszPbrke\n",
       "cdFy6Uw4LK6VHxrvie3DiHPIDEgJ7ZcORdoAAAV/QZpCPCGTKYQR//61KoABEG+QgAqT6Vk/P5p4\n",
       "QQX89E5b/mRKhUf3WhD+UgXCFk/zIUp9EeDSZabAzr+fahBJyzNrv8susBT1peYZR3u6zz2d/9m0\n",
       "DnInf6CPBxFdMWX02jP1KwBHtsBYEhOfScIXIC3j5W16YxusjbmD215gIpmaR1o8RnTtmFm6dXci\n",
       "3IwBKAKnouqMMLSHlYQu0nNqYu/JrvWT7KnOn/PK1seMdAtuvXQzo86YHNDHUnFGOCRvOtb7LtGE\n",
       "0iF6nqy9x3Ptd3U21VxAKnTCsn5M8WNAOpW9bW9CSDbk/6NnRRyP1D0T4SYP6arRCmoMwDeGFEXg\n",
       "2y+BtTtaPQrz13bKEQ3kfCA2MV7u8UFntd8hIJtajsk/4Kw8ELkaSyoBxcHHOi9WfJDwTi3ZJ8vi\n",
       "RTk98n3T3ZlJlRSDXt5NjCRqATmSHXeF0mIN2Rm7xnmObtoAmvg1LoE6M1OCh7khy1jPU0Tu7bT+\n",
       "cf4a2jokYzCZq+QHYqc7f3CH/iRS8r7VbgjbTAZ5fBLqEpfBnTv6lefWYdErFRXnQsmUvn9jW4Mt\n",
       "6Jy+GYiU5R18LFjxFc5cQ4hWjXAZblFmb1VnvewktAhpWDSFMsRIaCcwS7oNWtacJtt1pRt+hMqO\n",
       "12uCjTBWxNISW2NpNGqKhwLQKK5604ZNsvM/WbY7cAb4J9y3aSh0aMf7Rp6QEDSoBf8cB1zL95Ra\n",
       "IDbFJ0Js2cDN6gwzV0scxtMirKeoQwoc2JRldwFB2ncmBwnDCUFBLb2wD1sJRUkdUm1ZHHR+X1wn\n",
       "Moz3xaC5YlBtbjxwDgstaS8ffPUsGjSED9U3+kIs3/kQFQdNYE44NK3QckzsySiY1faWG1f9PoqD\n",
       "OBNkjCoypO55lAGZsnWqpWRk4Dg+e5ShP0xufxAeSOjEct2rjLxf2SMAQVvXzOgy//OUGLb0nU6H\n",
       "Df+wM9kW18wl3M875bT1/BLMZv2IZAyId277QzAm/SgM+02Htr8G5yBQ1DWyJDG9qbhjArAmDNc9\n",
       "w+Z54FaOmuXopyEvS65wSzh2ZY9i60z0hIRhXTgd2TEoJJiMXKAfwIo4cV4T4v1GQpSo0QOQ/vHP\n",
       "y89JsWabhAEeqRGSWGRK/9EgJcWOGytfp1QzmKz5T21ew1lUlE/Bgm4uImxjs0zQRf21d8BOfUEE\n",
       "zermCz+quJqpppw1fFagmhwh3wKJbKdTEkqb+iZq5tArYoYPHBrv4WrbMIjfNPbIL2lUxrg7ajNF\n",
       "UOx9V4n5fiS61Dtru+hiMHJaT0gvn2/OWdhltIOH8TPGPUYYO6XwjlKafljlFGDkpK8v6dti5IdP\n",
       "hxWxgP6znFB8GuE0DRwJ2RBlcQVNgM0m5gMr7v+eVlZFYq/Spxgazlru4vrCe+8DvVhO/y0zwCi+\n",
       "dinGxPEukJN+Lrp3TMuv8CYV3DlRxmo+bi0ni6C5/Ay7C1r9neL/vvIurs6ljOGeqmI19hFNUBPq\n",
       "yzlfYbwlCMNGFuZodh4JuVtVcM9F5QnESuApShgLW+zGTUpvCpHfqcHqxHb06bbZpKUzGbSKNoCS\n",
       "+rAozpe6uJ4SdCXNUwi0KkaQQCFRzl+bqopfxvK8gOLyIYgSkpKg/vVBycc/2btfAEpd/vjeHo16\n",
       "n7TfuIrDQ6tMJApFFXSBbkGipuHDvNYgjLU9v2q0dUnJdHNhQfzXf1knddvpADvqOXL7TsZl0dDQ\n",
       "FgamlfmDtSk0N14t7GujhL9/bSO0v1aF3uz5BEfECTOWg5sltxFM+RfKG429KiulPvMRRrTKgHxL\n",
       "yMr/FlStGdBqw0jB57WGEdD3RSzXEo9cVYa8UklKgZgyiOAXHGutXVWsGhQ9ZvYaG+0iMQXe9sAl\n",
       "ON1ABFiC0EEVlTk5AAAGcUGaZknhDyZTAgj//rUqgAKXxH/0OHskAAthJWWJQMQ1c+55vHt0WQu2\n",
       "P+yfafukM1XyBdb7lrjlJ3jIW2Aayf65VWgxDGiFSfUhVU1UBLpaPt1zdvvdWv31F0IMXblp7yuU\n",
       "LuKhbpoD8yyT//nQ8hgTVm0TalToIy+Cnp1RU1dzD/ayhKTxGnicBmR68li3L+KyJr4jKe59pE2u\n",
       "g4fL2HJ0J20GZRBuJwO0sagqERS8h2RNbtjdIFlsNeLyaLiKtl8JV3cAy4323+cIE6QX9Xadzezw\n",
       "/+IZOGbEI602SpB6gaB/UyAaVwKYXUos44docn8PpEYBMDF4XzN0NHbTeSnpVKDPmQZSHtoycktw\n",
       "2Wxn8du7CkRp24WNsVbwIrdinA2znaas/7/HhXBqAWZX/n/LadBmGI+t2ViiEmLDlndLVe0qvg1j\n",
       "pL/qNINFBPlfOZucRU37rvufDdKANl5Y17+4YK+ntqGKYugDBZOw3XGeH/phfyCw5ekfSNM7o8Lj\n",
       "GlhDQ073FMv/OuJE9UHVQMDQeOTGMytkPmDZ1vty2xkf17kCdd3K0z8hEoM/M/GLBoAAgXIx4r1f\n",
       "P6F8qWoo+Q66XK3uH7ckTO485h7mm21URlqeWr2C3pOPjZrYP/Ca4a0/YBMnXCAfMlMDFX8TfBBY\n",
       "XZAs2TkeTh3HcytCJSRcMhRhOuzQrTXbyEmBTB7+JxxS3NVR6VMGMSs4NqlrwUK5KHYCNkUbEbiW\n",
       "dNxqU221lbgihRV6mswRY3cr0PaBEjeLTVC9KWeMCXW1BCBbTVuNf9nDECBNOhLL8whyjYJPoHR/\n",
       "awjgGOGpquGWJJKlJ1h8vomCe11Bcb/5VfX+rUHjo0DUwTFU1ay5cImgCfNe0HomcY2eJHS1dBLo\n",
       "5jPXpXkBtiysmtf9e/DuSCvrvY65ILx041iMwBALprbR6vrws9GSA1hQ+3J72UuAlpSsQCksJiSn\n",
       "nfLXSDIBZyCjEF/aS/ABi9XwbBDO/Z0EwTVaYc6h6QdZNJ+jTJZOUv+gEYhnzo9oW+Czy7U+U4MB\n",
       "UV5KJAJ/+mVyuZleID2sgAchiY2eM/SVQw5e88SY+q6C5D7+9rJ1lN4MOV6tCxYzLb5m+9PaPNOE\n",
       "M5NQvl+zk0DbbdvuiQFCN2B4hxdcca7Pt5DjwIaSGQqS0vJkQqVsDod+K53O6kxEvXiJIO0vaJS4\n",
       "W7OuEj+GzC3z/Gf/ivendHINmxH/sfr+zgzaVqA9IWl4RaifiNgsrANyblLGiWw8ca0ZVqR3iAB4\n",
       "HnzNxdqwX0NPg5cBES+PMJKSgburGwAfWT7sTRNWOcRYFX60QtRD5FsQpVIG1NXA7AGagR5zgjHk\n",
       "P4CH2cyPCpqY6Wju8gyY1ztA4jVZysJJD17hIZboklNwbBO/XcgBh52p/oXIvF/Tj/oXV1nMWelx\n",
       "Uz8ZEb8KeEbn9pZRSh7DNNBNqvCzo0AZelCiIF5ZQ72wI/xZbehD9Tfi6YA/5c288M+P4oH5kjy7\n",
       "vmmQZm2Sbv+0TpIcZDfikH5lhmbCkdfjvNF3bmJbs6JN6VqpHFEVGeOqqZ662tS90iGWBmMm0w8z\n",
       "TI1QiJSB2i3pEYjIafdf8twIHoBKNipcBeiidjm302Vftm6OAJ+tnx0NbO4QcACtmeGZCabDqAmv\n",
       "BOmSvnAY7U4Ukm/P9GLwKkoPXi6ZFJ6Xk7BUCy9wmu0oHs6u797Edqx3dhCRVBCzFnFLbAzBaSyx\n",
       "EqWl0zy+FEIuOTCPQ3jSDvRChKzYBhkQc/Z2beN+IE45bJ5bq/S9OAHZ4ySsJn3pLT3QFjurmV4d\n",
       "f62MS4v9we0Bb2CkX8X6TjBhsWpQyvxmnbcCOh48H0blzckg+Mx6kdkNxEyqVZo0G/JotJbjLzPm\n",
       "AbH5tZuZGmPbbWtKvXhUexTQVHs3PLPwyeL7NRhTbFBDHnJsU6hzjgsyoIwjDmt9hMTeXlcX0Jhn\n",
       "hLyKFvRZ/8uGVsT8bj/mSrxU6mHE0/Ckn0T+nZqsV+MRv0Ikfc7QRcGMMJjEk5n4Pc6aYVVfvq8X\n",
       "VmYz+spLuDxOdlVQ4lFX1WSmzjYE6+EwR5VX+YLhFTn1oHcttRcjzAaVoT2ppPjx4MK8+EcxC0fs\n",
       "ZPz7ATMIh7summdFjgEOT+21QMTNfktxawo6LLzolZ3qtXTugYBJvS8h9yo5MFPR2hi3FdeojKbp\n",
       "Rx2oTBJrlfjrjJuAAAADDkGehEURPDv/AAoKp0z5JpzVDqOQgQAB2kW8ZwHFzxHu+p7c056ST8o/\n",
       "clN9VjbECymUzJMXV5Egso+hAVD8GB6JoUPY8fNZxymhybntgdvbiAgK/5PBavM7dgmE2xQ2U2L8\n",
       "BTAaR0X6XEQ9H2SZfaLxCabG2VlK2pkwdDX9u/mv0ONcCBAGS2mrT3N+c6cTvOPqGw8A1hiEALuP\n",
       "HReUDRpkSC9TPX6nao5G9dS2pqU8a9n5F+vwoGGObsrZ04X6ZL2t/0dLrDAF9L9mRwGfK2GUgSQS\n",
       "7oqvq8Yn/1WdkZwe3zsFGykSfJmvGC2aldOaWFONEOjUldBPfzBGjaecjB+4raMUgLXyHf8C7SV0\n",
       "cBEw8HUVqM9/5Iit1LvSxqcppESw0JNjoKOYIZX2OjOofFxfcYfp9q/i76JXZkRZIDhnECApodES\n",
       "SQFjB1X6yon0e794oBTauZYeGU2YJDDveTvynkoXJfd2W6V82HFY9HRKDEw0u2KZy1f3wgqLqsQd\n",
       "9Z75ezEFv+R9OZa5ykfhW9Y1CF/TLn3VRNFjhKxYhFqsMBAbmQNQ/of1wepputzye3auDuAyv0xB\n",
       "uFjpAZJ9mJHTbW+JJE76sS5+NZTrg9H8IFuv1PjCqFC1SfH1NLBgZH4yhsReNhhJ0kXA8U2hjJUl\n",
       "/otyVBypln2WMwYObUo8ptHNLf6tTL37Tkgc3iNdxw5tnsDUD2AMAxTlGTbczqn3k75F3jIWL7Pp\n",
       "h3aQcoHKeCGoeV8PvsFoQxmpbhZ/FQ5t4EsLMx06jsgrTlI8Dkc15Dp97oS8hEdtw14LuDdyTU7G\n",
       "7yc6bH4zOBrzhZHo89kcT1Lizjmlx5L4M+FL7dR8D76ilkuAXBdp39lgCcmiwKsXCPltlz1XSKuZ\n",
       "icRipU5r2BLTjLMHdlLet/VK7eLvKcctmEkwF2ljUibdJb9vzU0WVEwN6Lv5JH3O1v5wqxvFqKXo\n",
       "63VLdQiVDUt9icbSKw0Vthsa5+LFN478W9ujAb4JjDn4F3Zprt3SFkiTqfCVfBTm5DW1qAATQ5wR\n",
       "AAACnAGeo3RDfwAN0hM1TnIACH60HpbrLhxrmeNkGHIx+RIZKJApSopByGaSKZYDSLHU11OoqGfS\n",
       "V2bWm97TWRjfMvrzOidfCA1KUHUSuCnhUQ9SWroTVz3pvGzy4rrU1m4GjHZO2S2wKp/uaqBj7oy5\n",
       "Cz4mEE1TWlJVxvJFSsGopOlhLHfJSsBZsbMDoLnvCzJ4CsOuKfqNRUPfPu5hWXPfccT3c8xf85YW\n",
       "a5T8jl+OuiuwGoCXotyO6SFLedeNaAn7OQ53A5yLZVwBPJqv/m/jj3NBe0sRBVwmdDit8EkomD+d\n",
       "+IDiIMA5VFCI1t+KkrhCfd8amuJfR4PfkT+Xyd83ap6ag/tGaEFRchCyAaFybX4fO/Pn2KtfY/Q4\n",
       "tsrFnWCZKSprMrZcyGSmBta6XqRRQROC52CfCNQp/NV0s7gDJTqVpsJlB1TMxqc94Mleti8TC336\n",
       "Ef0GOBURW4Nz15WCdy3QVpMHH9PJ6qjrfsFRfWzvIdf0bVSsrmDgg+eC0KNTEVUaljW/cohEnHS1\n",
       "lm7s25fuxxTaJb3WHx0ewTQo/utjnaYNkjB3CEwSTRd8GoWojkWytoNuB/QXrPHsKDGhF9FbZWcN\n",
       "x3zw/JomvHiJFTDQxygojIy9FQYiTPmWD6AGIV1Cn62RDAgspHO/egRYcVAaIfRr7qJ6s7rV2HVZ\n",
       "SFutovr/zI3SOj8qw077brjK10NvfhMvGwu4NxNUlCeBd1vEhKgAXGb+yqUXAsdvAQ2U62uXSp/r\n",
       "aaGi1tknQY3ipT+dCx6DQ437J8sEfGLzDMtyGfUk7ANrMGvwfnoDKq+b4FGw6CkAjiIzTqmD+rtP\n",
       "AOo5eWL/bDfKAvmtCHq6nlzrDmFhzAwMooT/BQ5ZWgapBKXpKPRw8XgAAEXBAAAB7QGepWpDfwAO\n",
       "KOJagrctikAIKzpglrsxRC4w/3Lc4RlMlJxmrNjcuqTafiOsk2hrm0ZPOnTfRoBNgKw/+Uks9zI1\n",
       "VBe7q1VKu5K2Qp9toLGW/unfrpn4kFIa7mrZYVrpt5aXtcgPd5ZTy7aA/xcLkb55vXK9ImIftG3e\n",
       "UhO4Fz14F0aLuLfP+8ayV+qzYmlyG1A9YyWNhHRKpmUZOTSS0LzodM+xAFpoafOGYCls5hTk9I1w\n",
       "wb/MCtJvhHh5BCBsA4wWkaoNr9pYahOOeHxNRVfiZTl6RCbwZXfnQ/cf8qIV0pbfTYHYhPbQnQne\n",
       "8ZBP7KVS1Yt+ZGFs50sycGTAYnXG9yd0rMVSfu/BWnDLoXqSLQ4CcWEnlupXTEHYbpDKEC5cHByF\n",
       "+03z1sihf3VXFxbSXS0q7sarBRoUDM8wPMXCBsR+7JECj8a6ij/sOGCYCrsTZj2vfVILd+Q+/Nu6\n",
       "Cu7D+VraeppzCuLln22jQUGOJOi7IC7dCjJ61USeupzalqyQGS47Ms7l2lwzbGkDXTrEUhbkQGl+\n",
       "Atgu2uPqScFAvhDMtTlaio4hmdIIIk20owwSfm9t5IJqSadanow69ZgN6yOVyo0M4fDG47m2e6Go\n",
       "h6ZYk15yGhgC5QzR7agzETBEo/pRNAmxs4AAY8EAAAQDQZqqSahBaJlMCCP//rUqgAKmT9IAHG+d\n",
       "XI1u/Ur0K++6FyRUZ7NRJBgcW1Y16Gq708+QR/5RiChL/7WFzPPpNgBVNUFHKVcsABJAG0Yxk4gI\n",
       "K8rciM1YElNFmp6awVX7XM5KVqIPG5zPdLfrMVmWLrPzuG5w7nFIZG5Kn7aNyOUY5u3Rra6RsWrm\n",
       "TWNhZGHCBTS9TL701xLrW+T2IRwAdrjd7ahjbXnZtQWnqFWc40lRXz/5FXkWljAExA+TLeqkjtQV\n",
       "SzElATfcZRf3wOQKIZ+uzm9pb6XpPT87gFtptD6Y3h/64ztwdUktNHQCqNeY6iOY5jjooHUt2Vl6\n",
       "8Vo7oLDjUX+e61jl4HeHdyBxc088y2+iVmLqMgjMAqpKLHzYUw/TwQImgy/J/wdhMMJBRvJcV4Uv\n",
       "CEggFRm5Y6DVd2hkT13ZecX/Rhtsb6xb+UsK2kITAA5gKjI68N3blXTQYOn+vNUeadirh/5e5S8c\n",
       "omQsGp2UBY7/wUIwLfK3eQ+T5Frl4p6JttCh0YsOwtOEEYszeUH8Bse/tZ6AIVb9Bkf5S2Cxm9Fu\n",
       "W2W6IEhvv4PnTJHbkQZyiGFyJfZSIYfBtRWAtoaMgHwCXbqG2KdOxnzCRGI94tCLuSmx/4ThRLCV\n",
       "1xnR8YlYcw3YLRfKfPDbYkBQqnBzc0wvS6Um+6l7w/p9TP/j0klu+M3xJ2qM3gJA8+ih11GHi53K\n",
       "EKTAlBj3nC996pmnos0DewifIyx5NgbTvPy+pkQi6LHH7fa7XrznrbGQozzhU0jMO83D9Qu5MMYB\n",
       "ZYdTxv/6vhShgHRzsG2Cte0BlcoVpLMwbMP6RHaE2KVnetW0/S90iCMV9HzKutPyiYa5LgNElyv5\n",
       "sLxO8tDplD8TugUjH9FiEyAVr7IiG1m/isvofSWSbLVPnLieNDiUW9O+V3xSx2TPd19oAY/uE+CN\n",
       "p8Nc8E/rJBDE3t27fc30xo/HTqfGZ2R0ueP4xMt0kBFbZoDDbE6osIRPopd7YBwhl00efRijxa18\n",
       "Ll3L8O3Z36UQbPM3vUQoKgAO6gogW8TarTmf43Jm2e2bMSpzORX7hNl7gb7yIKC8AcUSkNpjy3d2\n",
       "unPtiwpoyo5lpSk7QfT6uy0l79qAYLT6NNLrq2QwFI2NerLBWn6yAP4Oy1oHohDTNFuVfEdP7gAq\n",
       "T44nk4B2yywbdKcZzj4F/lfOzR7jn7l4f8JnodvXj+ApuW5UT734XbJ6GB3nLXKKGFAJDKueJk5H\n",
       "J7nS+B31Ti4I7GV/v0vR58dervbyL3lC6F44ciBlEzWAfkGuL/d9xQeSaA+LiMe4NrBAjFxkFwG3\n",
       "SFHe1rC+loqCBRYa0QwqV3xkCrZvB73kd4oYtO6DQABiwQAAAT5BnshFESw7/wAKUYmUXEQnGZxF\n",
       "60AH5xh7V9zD1DbVJNDTliNE42QvIKir5hnK6chNmZWbjMOFBr88SrwNeOsSR3lNerfYisiabb4O\n",
       "xw5B0xhrqTWEz1Tii2NN8EFfI6Hk7r8B6njMQljx8O3vkEIduCif2APuwxd7yxW56AYief45V5TH\n",
       "8tS6ic31lpqtg/epbkJuQ+vWWLjGMEVdOj4l70dkNdOncHHd1GcfmHETcKuLPd4JSGv5ZKQN/rd9\n",
       "D3slqVZ9w37Jm7ikjqfudWM8PMXWGWadq6RU1j6gm9yqbBAa/calERh1/FCQ1Fls+MM6LQCxxDSm\n",
       "Tl7ttovK4ByB6PJVopKwx1v2M1Gr+M/U1IVrRENkrLQQib7nhdRGbpLhP+3/QcbO8fkx3ZzBZgfq\n",
       "vkB0rOGQQCaGR0EAAYEAAAEvAZ7ndEN/AA6AMzDG6wMH4DTugAQ4UQSm4fcvqMbzVKeLhFwjFwzI\n",
       "IxWFsObkI/yEXIT/wgpTYARmJoHflahCTTruCZTj9nYzb6SwUSbNy5GbeQLKBuO5N9QkQJVSgnlL\n",
       "0Skb0FlFrmcloQf4QHLDyqFxboRz3sKerZ9jdncUy3WhHbR3kTZY7V0iMRkuMo+H8azYwWmaP/1K\n",
       "MeLceTAkMrHGszi8IgkhJ8ydKea3W7mc9LR382uEIqURBRedD+B6W5OIDSGQ0n2zRKWCooVA9+qv\n",
       "JCnhbyiJWOIh9w8qF2DDQ7PAwT90HtqcWQkyYiTakEFHk9+SE0PEu8gn290dDkP8SZ9aUP3lgnJf\n",
       "vkIeNlIdpoSEkUI9NEWFClAUKZqblNCcBFenbNL21GlKgAG9AAAANgGe6WpDfwAOJjH6QkAG1Vlk\n",
       "QCtco9xg/1fu5T4R7kr1fCREt1QVcUTfZLTCl6IOFwmI4AAk4QAAAH5Bmu5JqEFsmUwIIf/+qlUA\n",
       "BSqssbtt1TsAAloHL3iIAc9H35hdB8+PkhsLcmHw14Aqir6oUs1YrkPIUl/6s2M6XdHnlZ4tDGDx\n",
       "Nm7+bH4UpOe0fY7YBGzHmNqhE1MLL1LJOmkm3LlBJFGwlX6L8wctdNCbWh6mDWFNxfCAAXcAAAAo\n",
       "QZ8MRRUsO/8ACgmPcH7XH3vO24SXiCDZsBolxRneU0fjN9ZEgAAEvAAAABUBnyt0Q38AAdrT2OeV\n",
       "x+VpurSAKGEAAAAVAZ8takN/AAHbKJj+l2mWbsGaQBQxAAAAFkGbMkmoQWyZTAh3//6plgAAAwAA\n",
       "E7EAAAAhQZ9QRRUsO/8ABGKVG7it8yLPg/bYUz0zZhaQdMkAAEbAAAAAFQGfb3RDfwAB2tPY55XH\n",
       "5Wm6tIAoYAAAABUBn3FqQ38AAdsomP6XaZZuwZpAFDEAAAAWQZtzSahBbJlMCG///qeEAAADAAAm\n",
       "4AAABA9tb292AAAAbG12aGQAAAAAAAAAAAAAAAAAAAPoAAAH0AABAAABAAAAAAAAAAAAAAAAAQAA\n",
       "AAAAAAAAAAAAAAAAAAEAAAAAAAAAAAAAAAAAAEAAAAAAAAAAAAAAAAAAAAAAAAAAAAAAAAAAAAAA\n",
       "AAACAAADOXRyYWsAAABcdGtoZAAAAAMAAAAAAAAAAAAAAAEAAAAAAAAH0AAAAAAAAAAAAAAAAAAA\n",
       "AAAAAQAAAAAAAAAAAAAAAAAAAAEAAAAAAAAAAAAAAAAAAEAAAAAB9AAAAZAAAAAAACRlZHRzAAAA\n",
       "HGVsc3QAAAAAAAAAAQAAB9AAAAgAAAEAAAAAArFtZGlhAAAAIG1kaGQAAAAAAAAAAAAAAAAAACgA\n",
       "AABQAFXEAAAAAAAtaGRscgAAAAAAAAAAdmlkZQAAAAAAAAAAAAAAAFZpZGVvSGFuZGxlcgAAAAJc\n",
       "bWluZgAAABR2bWhkAAAAAQAAAAAAAAAAAAAAJGRpbmYAAAAcZHJlZgAAAAAAAAABAAAADHVybCAA\n",
       "AAABAAACHHN0YmwAAAC0c3RzZAAAAAAAAAABAAAApGF2YzEAAAAAAAAAAQAAAAAAAAAAAAAAAAAA\n",
       "AAAB9AGQAEgAAABIAAAAAAAAAAEAAAAAAAAAAAAAAAAAAAAAAAAAAAAAAAAAAAAAAAAAAAAY//8A\n",
       "AAAyYXZjQwFkABb/4QAZZ2QAFqzZQIAz5+EAAAMAAQAAAwAUDxYtlgEABmjr48siwAAAABx1dWlk\n",
       "a2hA8l8kT8W6OaUbzwMj8wAAAAAAAAAYc3R0cwAAAAAAAAABAAAAFAAABAAAAAAUc3RzcwAAAAAA\n",
       "AAABAAAAAQAAAKBjdHRzAAAAAAAAABIAAAADAAAIAAAAAAEAABQAAAAAAQAACAAAAAABAAAAAAAA\n",
       "AAEAAAQAAAAAAQAAFAAAAAABAAAIAAAAAAEAAAAAAAAAAQAABAAAAAABAAAUAAAAAAEAAAgAAAAA\n",
       "AQAAAAAAAAABAAAEAAAAAAEAABQAAAAAAQAACAAAAAABAAAAAAAAAAEAAAQAAAAAAQAACAAAAAAc\n",
       "c3RzYwAAAAAAAAABAAAAAQAAABQAAAABAAAAZHN0c3oAAAAAAAAAAAAAABQAABuEAAAFJQAABYMA\n",
       "AAZ1AAADEgAAAqAAAAHxAAAEBwAAAUIAAAEzAAAAOgAAAIIAAAAsAAAAGQAAABkAAAAaAAAAJQAA\n",
       "ABkAAAAZAAAAGgAAABRzdGNvAAAAAAAAAAEAAAAsAAAAYnVkdGEAAABabWV0YQAAAAAAAAAhaGRs\n",
       "cgAAAAAAAAAAbWRpcmFwcGwAAAAAAAAAAAAAAAAtaWxzdAAAACWpdG9vAAAAHWRhdGEAAAABAAAA\n",
       "AExhdmY1Ny44My4xMDA=\n",
       "\">\n",
       "  Your browser does not support the video tag.\n",
       "</video>"
      ],
      "text/plain": [
       "<matplotlib.animation.FuncAnimation at 0x7f85a82a0fd0>"
      ]
     },
     "execution_count": 21,
     "metadata": {},
     "output_type": "execute_result"
    }
   ],
   "source": [
    "fig = plt.figure(dpi=100, figsize=(5, 4))\n",
    "plt.scatter(x,y)\n",
    "line, = plt.plot(x,lin(a_guess,b_guess,x))\n",
    "plt.close()\n",
    "\n",
    "def animate(i):\n",
    "    line.set_ydata(lin(a_guess,b_guess,x))\n",
    "    for i in range(30): upd()\n",
    "    return line,\n",
    "\n",
    "ani = animation.FuncAnimation(fig, animate, np.arange(0, 20), interval=100)\n",
    "ani"
   ]
  },
  {
   "cell_type": "code",
   "execution_count": null,
   "metadata": {},
   "outputs": [],
   "source": []
  }
 ],
 "metadata": {
  "kernelspec": {
   "display_name": "Python 3",
   "language": "python",
   "name": "python3"
  },
  "language_info": {
   "codemirror_mode": {
    "name": "ipython",
    "version": 3
   },
   "file_extension": ".py",
   "mimetype": "text/x-python",
   "name": "python",
   "nbconvert_exporter": "python",
   "pygments_lexer": "ipython3",
   "version": "3.6.6"
  },
  "nav_menu": {},
  "toc": {
   "colors": {
    "hover_highlight": "#DAA520",
    "navigate_num": "#000000",
    "navigate_text": "#333333",
    "running_highlight": "#FF0000",
    "selected_highlight": "#FFD700",
    "sidebar_border": "#EEEEEE",
    "wrapper_background": "#FFFFFF"
   },
   "moveMenuLeft": true,
   "nav_menu": {
    "height": "116px",
    "width": "251px"
   },
   "navigate_menu": true,
   "number_sections": true,
   "sideBar": true,
   "threshold": 4,
   "toc_cell": true,
   "toc_section_display": "block",
   "toc_window_display": false,
   "widenNotebook": false
  },
  "widgets": {
   "state": {},
   "version": "1.1.2"
  }
 },
 "nbformat": 4,
 "nbformat_minor": 1
}
